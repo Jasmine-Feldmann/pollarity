{
 "cells": [
  {
   "cell_type": "code",
   "execution_count": 39,
   "metadata": {
    "collapsed": true
   },
   "outputs": [],
   "source": [
    "import pandas as pd\n",
    "import numpy as np\n",
    "from sklearn.ensemble import RandomForestClassifier\n",
    "from sklearn.feature_extraction.text import CountVectorizer\n",
    "from sklearn.cross_validation import train_test_split\n",
    "from sklearn import metrics\n",
    "from sklearn.linear_model import SGDClassifier\n",
    "from sklearn import linear_model\n",
    "from sklearn import svm\n",
    "\n",
    "\n"
   ]
  },
  {
   "cell_type": "code",
   "execution_count": 40,
   "metadata": {
    "collapsed": false
   },
   "outputs": [],
   "source": [
    "linear = svm.SVC()\n",
    "df = pd.read_csv(\"./app/Python/FINALOBAMA.csv\", header=0)"
   ]
  },
  {
   "cell_type": "code",
   "execution_count": 80,
   "metadata": {
    "collapsed": true
   },
   "outputs": [],
   "source": [
    "xtrain, xtest, ytrain, ytest = train_test_split(df['Close'], df['Approval'], train_size = 0.8)"
   ]
  },
  {
   "cell_type": "code",
   "execution_count": 81,
   "metadata": {
    "collapsed": false
   },
   "outputs": [
    {
     "name": "stderr",
     "output_type": "stream",
     "text": [
      "/Users/jasminefeldmann1/anaconda/lib/python2.7/site-packages/sklearn/svm/base.py:472: DataConversionWarning: A column-vector y was passed when a 1d array was expected. Please change the shape of y to (n_samples, ), for example using ravel().\n",
      "  y_ = column_or_1d(y, warn=True)\n"
     ]
    },
    {
     "data": {
      "text/plain": [
       "SVC(C=1.0, cache_size=200, class_weight=None, coef0=0.0, degree=3, gamma=0.0,\n",
       "  kernel='rbf', max_iter=-1, probability=False, random_state=None,\n",
       "  shrinking=True, tol=0.001, verbose=False)"
      ]
     },
     "execution_count": 81,
     "metadata": {},
     "output_type": "execute_result"
    }
   ],
   "source": [
    "linear.fit(pd.DataFrame(xtrain), pd.DataFrame(ytrain))"
   ]
  },
  {
   "cell_type": "code",
   "execution_count": 82,
   "metadata": {
    "collapsed": false
   },
   "outputs": [],
   "source": [
    "output = linear.predict(pd.DataFrame(xtest))"
   ]
  },
  {
   "cell_type": "code",
   "execution_count": 83,
   "metadata": {
    "collapsed": false
   },
   "outputs": [],
   "source": [
    "ytest = ytest.reset_index()[\"Approval\"]"
   ]
  },
  {
   "cell_type": "code",
   "execution_count": 88,
   "metadata": {
    "collapsed": false
   },
   "outputs": [
    {
     "name": "stdout",
     "output_type": "stream",
     "text": [
      "2 46 44\n",
      "-1 46 47\n",
      "3 46 43\n",
      "1 46 45\n",
      "0 40 40\n",
      "0 46 46\n",
      "-3 40 43\n",
      "0 46 46\n",
      "-3 46 49\n",
      "-12 46 58\n",
      "3 46 43\n",
      "-3 46 49\n",
      "-2 46 48\n",
      "3 63 60\n",
      "2 46 44\n",
      "-20 46 66\n",
      "-1 46 47\n",
      "6 46 40\n",
      "3 46 43\n",
      "1 46 45\n",
      "1 46 45\n",
      "-5 46 51\n",
      "-6 46 52\n",
      "-4 46 50\n",
      "3 46 43\n",
      "-3 46 49\n",
      "1 45 44\n",
      "-1 46 47\n",
      "5 50 45\n",
      "-1 45 46\n",
      "0 46 46\n",
      "-2 46 48\n",
      "0 46 46\n",
      "6 46 40\n",
      "0 46 46\n",
      "4 46 42\n",
      "-1 46 47\n",
      "4 46 42\n",
      "-4 43 47\n",
      "0 46 46\n",
      "-5 46 51\n",
      "0 46 46\n",
      "-6 46 52\n",
      "-6 46 52\n",
      "1 47 46\n",
      "-3 43 46\n",
      "-4 46 50\n",
      "2 43 41\n",
      "1 43 42\n",
      "-1 46 47\n",
      "-6 46 52\n",
      "-1 46 47\n",
      "-1 45 46\n",
      "5 46 41\n",
      "-4 46 50\n",
      "-11 43 54\n",
      "-2 41 43\n",
      "0 46 46\n",
      "-2 46 48\n",
      "5 46 41\n",
      "-3 45 48\n",
      "4 46 42\n",
      "-18 46 64\n",
      "-3 45 48\n",
      "0 46 46\n",
      "3 46 43\n",
      "-1 46 47\n",
      "-1 46 47\n",
      "-6 46 52\n"
     ]
    }
   ],
   "source": [
    "for i in range (0, len(output)):\n",
    "    difference = output[i] - ytest[i]\n",
    "    print difference, output[i], ytest[i]"
   ]
  },
  {
   "cell_type": "code",
   "execution_count": 89,
   "metadata": {
    "collapsed": false
   },
   "outputs": [
    {
     "data": {
      "text/plain": [
       "0.86594202898550721"
      ]
     },
     "execution_count": 89,
     "metadata": {},
     "output_type": "execute_result"
    }
   ],
   "source": [
    "linear.score(pd.DataFrame(xtrain), pd.DataFrame(ytrain))"
   ]
  },
  {
   "cell_type": "code",
   "execution_count": null,
   "metadata": {
    "collapsed": true
   },
   "outputs": [],
   "source": []
  }
 ],
 "metadata": {
  "kernelspec": {
   "display_name": "Python 2",
   "language": "python",
   "name": "python2"
  },
  "language_info": {
   "codemirror_mode": {
    "name": "ipython",
    "version": 2
   },
   "file_extension": ".py",
   "mimetype": "text/x-python",
   "name": "python",
   "nbconvert_exporter": "python",
   "pygments_lexer": "ipython2",
   "version": "2.7.10"
  }
 },
 "nbformat": 4,
 "nbformat_minor": 0
}
